{
 "cells": [
  {
   "cell_type": "code",
   "execution_count": 7,
   "metadata": {},
   "outputs": [],
   "source": [
    "import abc\n",
    "import math\n",
    "import os\n",
    "\n",
    "import bs4\n",
    "import requests"
   ]
  },
  {
   "cell_type": "code",
   "execution_count": 8,
   "metadata": {},
   "outputs": [
    {
     "name": "stdout",
     "output_type": "stream",
     "text": [
      "The autoreload extension is already loaded. To reload it, use:\n",
      "  %reload_ext autoreload\n"
     ]
    }
   ],
   "source": [
    "%load_ext autoreload\n",
    "%autoreload 1\n",
    "%aimport encoding"
   ]
  },
  {
   "cell_type": "code",
   "execution_count": 9,
   "metadata": {},
   "outputs": [],
   "source": [
    "from encoding import RLEncoding, test_encoding"
   ]
  },
  {
   "cell_type": "code",
   "execution_count": 10,
   "metadata": {},
   "outputs": [],
   "source": [
    "ISSUE_URL = 'https://github.com/olin/collascii/issues/21'\n",
    "CACHE_FILE = \"cache.html\"\n",
    "if os.path.exists(CACHE_FILE):\n",
    "    with open(CACHE_FILE, 'r') as f:\n",
    "        html = f.read()\n",
    "else:\n",
    "    response = requests.get(ISSUE_URL)\n",
    "    if response.status_code is not 200:\n",
    "        raise Exception(\"Response was not OK\")\n",
    "    html = response.text\n",
    "    with open(CACHE_FILE, 'w') as f:\n",
    "        f.write(html)\n",
    "soup = bs4.BeautifulSoup(html)"
   ]
  },
  {
   "cell_type": "code",
   "execution_count": 11,
   "metadata": {},
   "outputs": [],
   "source": [
    "blocks = soup.select(\".comment-body pre > code\")  # select all pre-formatted code blocks in comment bodies\n",
    "works = list(map(lambda b: b.text.encode('ASCII'), blocks))"
   ]
  },
  {
   "cell_type": "code",
   "execution_count": 30,
   "metadata": {},
   "outputs": [
    {
     "name": "stdout",
     "output_type": "stream",
     "text": [
      "caught 22 works\n",
      "         |  ###############  |\\                         \n",
      "         | #               # ||                         \n",
      "         | #  HELLO WORLD  # ||                         \n",
      "         | #               # |\\                         \n",
      "         |  ###############  | |                        \n",
      "         *-------------------* |                        \n",
      "          \\                    \\                        \n",
      "           --                   |  \"LONG-LEGGED LOOSEY\" \n",
      "             \\                  |                       \n",
      "              --                \\                       \n",
      "                \\                |                      \n",
      "                 --              |                      \n",
      "                   \\             \\                      \n",
      "                    --            |                     \n",
      "                      \\           |                     \n",
      "                       --         \\ _____________       \n",
      "                         \\         |             \\      \n",
      "                          --       |              |     \n",
      "                            \\      \\  /-\\    /-\\  |     \n",
      "                             --     | \\-/    \\-/  |     \n",
      "                               \\    |             |     \n",
      "                                --  \\    <__>     |     \n",
      "                                  \\  |*--------*  |     \n",
      "                                   --*|xxxxxxxx|  |     \n",
      "                                   |  *--------*  |     \n",
      "                                    \\____________/      \n",
      "                                    _____|  |_____      \n",
      "                                   /              \\     \n",
      "                                  /_/|          |\\_\\    \n",
      "                                  /  |          |  \\    \n",
      "                                 /   |          |   \\   \n",
      "                               >*-   |          |   -*< \n",
      "                                ^    |__________|    ^  \n",
      "                                      |________|        \n",
      "                                      |        |        \n",
      "                                      |   __   |        \n",
      "                                      |   ||   |        \n",
      "                                      |   ||   |        \n",
      "                                      |___||___|        \n",
      "                                       | |  | |         \n",
      "                                       | |  | |         \n",
      "                                       | |  | |         \n",
      "                                       | |  | |         \n",
      "                                       | |  | |         \n",
      "                                       | |  | |         \n",
      "                                       | |  | |         \n",
      "                                       | |  | |         \n",
      "                                       | |  | |         \n",
      "                                       | |  | |         \n",
      "                                       | |  | |         \n",
      "                                       | |  | |         \n",
      "                                       | |  | |         \n",
      "                                       | |  | |         \n",
      "                                       | |  | |         \n",
      "                                       | |  | |\n",
      "\n",
      "********************************************************************************\n",
      "\n",
      "                         9</!\"//irooo\n",
      "                      /_;|_<\\iii}}I1rV0Q@@\n",
      "                    |;_,_,|||\"oor}r2ozURM@@@\n",
      "                 .\\_---___<\\</+vII}souGNNR@@N\n",
      "                @R|_-^-___|/\\//i}}I*V*V%@MMMM8\n",
      "               N@=--^.``._|=\\===}rIzUz*4FR@NMNN\n",
      "               0/;-^    .-||/\\==/_/r*ozV0Q@@NA@\n",
      "              zR_^^`   ..,,_|\\=/!<<\\}**o4FN@R@AQ\n",
      "              8o_^..   _ `_=!!!!///r}ozrVFFN8QG/--\n",
      "               =_,.^ _;I|vi\\=\"//=/rooooz}V%F/----/\n",
      "               Q|-,||\"Ii/zVR8oRVo*o4%VooIz/----/VN\n",
      "              /-----------\\#/-----------\\----/MF}b\n",
      "              |/---------\\|-|/---------\\|---/IUAoU\n",
      "              || ------- ||-|| ------- ||5U*t2R*b\n",
      "              |\\---------/|z|\\---------/|zz*Isos*\n",
      "              \\-----------/z\\-----------/z*o*zoI\n",
      "                 \\_|\"Uq}VRRR4am@+rIzZZ2zzz**ING\n",
      "                  =\"I8 .,<(o..99NRIzZaU2*ouzu\n",
      "                  =/I\\'<(98%#BN@NMN|oGZUUUUUG\n",
      "                  !!r8R;-:-`-+I1Ir|i2FGGaG0GU\n",
      "                   +/\"1_|<\"i+\"+iirIoF%F000m4&MMH\n",
      "                    P/|-^.,`;\\//i2U4%m000GGsozMZ\n",
      "                      /<|,-=<rr}GG4AAdd00GGy&ZM/b\n",
      "                      R\"9if008NNAAA8A800UGGUGR*</\n",
      "                   ^bdR  \"\\v0N@NAAAPFm04Zmmm%}<__<*\n",
      "                ,,'}6do  Z\\ro4P8WAW%04GGGGmM};<<;_u*}u/+\n",
      "          _.~<+``^^,jR   ^MiVW%00%RRF44088N+<<+/<<*i}/+}*u}\n",
      "     +  `o<<}/_``2` jRR   zMiNBofGR4GF0V# ;<;}+i<}5*io*i*u}+i/+\n",
      "  b      <}/2',`/6  jdH    zMR877R0bi2F;`;<~<++i}5i**<i*Qi;<<++*+/\n",
      "\n"
     ]
    }
   ],
   "source": [
    "# let's make sure we got some\n",
    "print(f\"caught {len(works)} works\")\n",
    "print(works[0].decode('ascii'),works[-1].decode('ascii'), sep='\\n'+'*'*80+'\\n')"
   ]
  },
  {
   "cell_type": "code",
   "execution_count": 13,
   "metadata": {},
   "outputs": [
    {
     "name": "stdout",
     "output_type": "stream",
     "text": [
      "Help on class RLEncoding in module encoding:\n",
      "\n",
      "class RLEncoding(Encoding)\n",
      " |  RLEncoding(escape: bytes = b'\\\\')\n",
      " |  \n",
      " |  Run-Length Encoding\n",
      " |  \n",
      " |  >>> RLEncoding().encode(b'bbbbbb')\n",
      " |  b'6b'\n",
      " |  \n",
      " |  >>> RLEncoding().encode(b'a')\n",
      " |  b'a'\n",
      " |  \n",
      " |  >>> RLEncoding().encode(b'1')\n",
      " |  b'\\\\1'\n",
      " |  \n",
      " |  >>> RLEncoding().encode(b'\\\\')\n",
      " |  b'\\\\\\\\'\n",
      " |  \n",
      " |  >>> b'\\\\\\\\' == br'\\\\'\n",
      " |  True\n",
      " |  \n",
      " |  >>> rle = RLEncoding(b'a')\n",
      " |  >>> rle.encode(b'1')\n",
      " |  b'a1'\n",
      " |  >>> rle.encode(b'122333')\n",
      " |  b'a12a23a3'\n",
      " |  >>> rle.decode(b'a12a23a3')\n",
      " |  b'122333'\n",
      " |  \n",
      " |  Method resolution order:\n",
      " |      RLEncoding\n",
      " |      Encoding\n",
      " |      abc.ABC\n",
      " |      builtins.object\n",
      " |  \n",
      " |  Methods defined here:\n",
      " |  \n",
      " |  __init__(self, escape: bytes = b'\\\\')\n",
      " |      Initialize self.  See help(type(self)) for accurate signature.\n",
      " |  \n",
      " |  decode(self, content: bytes)\n",
      " |  \n",
      " |  encode(self, content: bytes)\n",
      " |  \n",
      " |  ----------------------------------------------------------------------\n",
      " |  Data and other attributes defined here:\n",
      " |  \n",
      " |  __abstractmethods__ = frozenset()\n",
      " |  \n",
      " |  ----------------------------------------------------------------------\n",
      " |  Data descriptors inherited from Encoding:\n",
      " |  \n",
      " |  __dict__\n",
      " |      dictionary for instance variables (if defined)\n",
      " |  \n",
      " |  __weakref__\n",
      " |      list of weak references to the object (if defined)\n",
      "\n"
     ]
    }
   ],
   "source": [
    "help(RLEncoding)"
   ]
  },
  {
   "cell_type": "code",
   "execution_count": 14,
   "metadata": {},
   "outputs": [
    {
     "data": {
      "text/plain": [
       "(b'/12/23/3', b'122333')"
      ]
     },
     "execution_count": 14,
     "metadata": {},
     "output_type": "execute_result"
    }
   ],
   "source": [
    "rle = RLEncoding(escape=b\"/\")\n",
    "orig = br\"123abc\"\n",
    "test_encoding(rle, orig)\n",
    "\n",
    "test_encoding(rle, b\"122333\")"
   ]
  },
  {
   "cell_type": "code",
   "execution_count": 15,
   "metadata": {},
   "outputs": [
    {
     "name": "stdout",
     "output_type": "stream",
     "text": [
      "b'bbbbbbbbbb'\n"
     ]
    },
    {
     "data": {
      "text/plain": [
       "b'bbbbbbbbbb'"
      ]
     },
     "execution_count": 15,
     "metadata": {},
     "output_type": "execute_result"
    }
   ],
   "source": [
    "print(b\"b\"*10)\n",
    "rle.decode(b\"10b\")"
   ]
  },
  {
   "cell_type": "code",
   "execution_count": 16,
   "metadata": {},
   "outputs": [],
   "source": [
    "results = [test_encoding(rle, w) for w in works]"
   ]
  },
  {
   "cell_type": "code",
   "execution_count": 24,
   "metadata": {},
   "outputs": [],
   "source": [
    "reductions = [len(e) / len(d) for e, d in results]"
   ]
  },
  {
   "cell_type": "code",
   "execution_count": 28,
   "metadata": {},
   "outputs": [
    {
     "name": "stdout",
     "output_type": "stream",
     "text": [
      "Size reductions:\n",
      "\tAverage: 0.3865806757853603\n",
      "\tMin: 0.13590939373750832\n",
      "\tMax: 0.7749523204068659\n"
     ]
    }
   ],
   "source": [
    "print(f\"Size reductions:\")\n",
    "for name, func in {\"Average\": lambda a: sum(a) / len(a), \"Min\": min, \"Max\": max}.items():\n",
    "    print(f\"\\t{name}: {func(reductions)}\")"
   ]
  },
  {
   "cell_type": "code",
   "execution_count": null,
   "metadata": {},
   "outputs": [],
   "source": []
  }
 ],
 "metadata": {
  "kernelspec": {
   "display_name": "Python 3",
   "language": "python",
   "name": "python3"
  },
  "language_info": {
   "codemirror_mode": {
    "name": "ipython",
    "version": 3
   },
   "file_extension": ".py",
   "mimetype": "text/x-python",
   "name": "python",
   "nbconvert_exporter": "python",
   "pygments_lexer": "ipython3",
   "version": "3.7.1"
  }
 },
 "nbformat": 4,
 "nbformat_minor": 2
}
