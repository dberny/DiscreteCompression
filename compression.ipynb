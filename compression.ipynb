{
 "cells": [
  {
   "cell_type": "code",
   "execution_count": 3,
   "metadata": {},
   "outputs": [],
   "source": [
    "import abc\n",
    "import math\n",
    "import os\n",
    "\n",
    "import bs4\n",
    "import requests"
   ]
  },
  {
   "cell_type": "code",
   "execution_count": 2,
   "metadata": {},
   "outputs": [
    {
     "ename": "ModuleNotFoundError",
     "evalue": "No module named 'encoding'",
     "output_type": "error",
     "traceback": [
      "\u001b[0;31m---------------------------------------------------------------------------\u001b[0m",
      "\u001b[0;31mModuleNotFoundError\u001b[0m                       Traceback (most recent call last)",
      "\u001b[0;32m<ipython-input-2-c2f736b4d260>\u001b[0m in \u001b[0;36m<module>\u001b[0;34m\u001b[0m\n\u001b[1;32m      1\u001b[0m \u001b[0mget_ipython\u001b[0m\u001b[0;34m(\u001b[0m\u001b[0;34m)\u001b[0m\u001b[0;34m.\u001b[0m\u001b[0mrun_line_magic\u001b[0m\u001b[0;34m(\u001b[0m\u001b[0;34m'load_ext'\u001b[0m\u001b[0;34m,\u001b[0m \u001b[0;34m'autoreload'\u001b[0m\u001b[0;34m)\u001b[0m\u001b[0;34m\u001b[0m\u001b[0;34m\u001b[0m\u001b[0m\n\u001b[1;32m      2\u001b[0m \u001b[0mget_ipython\u001b[0m\u001b[0;34m(\u001b[0m\u001b[0;34m)\u001b[0m\u001b[0;34m.\u001b[0m\u001b[0mrun_line_magic\u001b[0m\u001b[0;34m(\u001b[0m\u001b[0;34m'autoreload'\u001b[0m\u001b[0;34m,\u001b[0m \u001b[0;34m'1'\u001b[0m\u001b[0;34m)\u001b[0m\u001b[0;34m\u001b[0m\u001b[0;34m\u001b[0m\u001b[0m\n\u001b[0;32m----> 3\u001b[0;31m \u001b[0mget_ipython\u001b[0m\u001b[0;34m(\u001b[0m\u001b[0;34m)\u001b[0m\u001b[0;34m.\u001b[0m\u001b[0mrun_line_magic\u001b[0m\u001b[0;34m(\u001b[0m\u001b[0;34m'aimport'\u001b[0m\u001b[0;34m,\u001b[0m \u001b[0;34m'encoding'\u001b[0m\u001b[0;34m)\u001b[0m\u001b[0;34m\u001b[0m\u001b[0;34m\u001b[0m\u001b[0m\n\u001b[0m",
      "\u001b[0;32m~/anaconda3/lib/python3.6/site-packages/IPython/core/interactiveshell.py\u001b[0m in \u001b[0;36mrun_line_magic\u001b[0;34m(self, magic_name, line, _stack_depth)\u001b[0m\n\u001b[1;32m   2285\u001b[0m                 \u001b[0mkwargs\u001b[0m\u001b[0;34m[\u001b[0m\u001b[0;34m'local_ns'\u001b[0m\u001b[0;34m]\u001b[0m \u001b[0;34m=\u001b[0m \u001b[0msys\u001b[0m\u001b[0;34m.\u001b[0m\u001b[0m_getframe\u001b[0m\u001b[0;34m(\u001b[0m\u001b[0mstack_depth\u001b[0m\u001b[0;34m)\u001b[0m\u001b[0;34m.\u001b[0m\u001b[0mf_locals\u001b[0m\u001b[0;34m\u001b[0m\u001b[0;34m\u001b[0m\u001b[0m\n\u001b[1;32m   2286\u001b[0m             \u001b[0;32mwith\u001b[0m \u001b[0mself\u001b[0m\u001b[0;34m.\u001b[0m\u001b[0mbuiltin_trap\u001b[0m\u001b[0;34m:\u001b[0m\u001b[0;34m\u001b[0m\u001b[0;34m\u001b[0m\u001b[0m\n\u001b[0;32m-> 2287\u001b[0;31m                 \u001b[0mresult\u001b[0m \u001b[0;34m=\u001b[0m \u001b[0mfn\u001b[0m\u001b[0;34m(\u001b[0m\u001b[0;34m*\u001b[0m\u001b[0margs\u001b[0m\u001b[0;34m,\u001b[0m\u001b[0;34m**\u001b[0m\u001b[0mkwargs\u001b[0m\u001b[0;34m)\u001b[0m\u001b[0;34m\u001b[0m\u001b[0;34m\u001b[0m\u001b[0m\n\u001b[0m\u001b[1;32m   2288\u001b[0m             \u001b[0;32mreturn\u001b[0m \u001b[0mresult\u001b[0m\u001b[0;34m\u001b[0m\u001b[0;34m\u001b[0m\u001b[0m\n\u001b[1;32m   2289\u001b[0m \u001b[0;34m\u001b[0m\u001b[0m\n",
      "\u001b[0;32m<decorator-gen-126>\u001b[0m in \u001b[0;36maimport\u001b[0;34m(self, parameter_s, stream)\u001b[0m\n",
      "\u001b[0;32m~/anaconda3/lib/python3.6/site-packages/IPython/core/magic.py\u001b[0m in \u001b[0;36m<lambda>\u001b[0;34m(f, *a, **k)\u001b[0m\n\u001b[1;32m    185\u001b[0m     \u001b[0;31m# but it's overkill for just that one bit of state.\u001b[0m\u001b[0;34m\u001b[0m\u001b[0;34m\u001b[0m\u001b[0;34m\u001b[0m\u001b[0m\n\u001b[1;32m    186\u001b[0m     \u001b[0;32mdef\u001b[0m \u001b[0mmagic_deco\u001b[0m\u001b[0;34m(\u001b[0m\u001b[0marg\u001b[0m\u001b[0;34m)\u001b[0m\u001b[0;34m:\u001b[0m\u001b[0;34m\u001b[0m\u001b[0;34m\u001b[0m\u001b[0m\n\u001b[0;32m--> 187\u001b[0;31m         \u001b[0mcall\u001b[0m \u001b[0;34m=\u001b[0m \u001b[0;32mlambda\u001b[0m \u001b[0mf\u001b[0m\u001b[0;34m,\u001b[0m \u001b[0;34m*\u001b[0m\u001b[0ma\u001b[0m\u001b[0;34m,\u001b[0m \u001b[0;34m**\u001b[0m\u001b[0mk\u001b[0m\u001b[0;34m:\u001b[0m \u001b[0mf\u001b[0m\u001b[0;34m(\u001b[0m\u001b[0;34m*\u001b[0m\u001b[0ma\u001b[0m\u001b[0;34m,\u001b[0m \u001b[0;34m**\u001b[0m\u001b[0mk\u001b[0m\u001b[0;34m)\u001b[0m\u001b[0;34m\u001b[0m\u001b[0;34m\u001b[0m\u001b[0m\n\u001b[0m\u001b[1;32m    188\u001b[0m \u001b[0;34m\u001b[0m\u001b[0m\n\u001b[1;32m    189\u001b[0m         \u001b[0;32mif\u001b[0m \u001b[0mcallable\u001b[0m\u001b[0;34m(\u001b[0m\u001b[0marg\u001b[0m\u001b[0;34m)\u001b[0m\u001b[0;34m:\u001b[0m\u001b[0;34m\u001b[0m\u001b[0;34m\u001b[0m\u001b[0m\n",
      "\u001b[0;32m~/anaconda3/lib/python3.6/site-packages/IPython/extensions/autoreload.py\u001b[0m in \u001b[0;36maimport\u001b[0;34m(self, parameter_s, stream)\u001b[0m\n\u001b[1;32m    501\u001b[0m         \u001b[0;32melse\u001b[0m\u001b[0;34m:\u001b[0m\u001b[0;34m\u001b[0m\u001b[0;34m\u001b[0m\u001b[0m\n\u001b[1;32m    502\u001b[0m             \u001b[0;32mfor\u001b[0m \u001b[0m_module\u001b[0m \u001b[0;32min\u001b[0m \u001b[0;34m(\u001b[0m\u001b[0;34m[\u001b[0m\u001b[0m_\u001b[0m\u001b[0;34m.\u001b[0m\u001b[0mstrip\u001b[0m\u001b[0;34m(\u001b[0m\u001b[0;34m)\u001b[0m \u001b[0;32mfor\u001b[0m \u001b[0m_\u001b[0m \u001b[0;32min\u001b[0m \u001b[0mmodname\u001b[0m\u001b[0;34m.\u001b[0m\u001b[0msplit\u001b[0m\u001b[0;34m(\u001b[0m\u001b[0;34m','\u001b[0m\u001b[0;34m)\u001b[0m\u001b[0;34m]\u001b[0m\u001b[0;34m)\u001b[0m\u001b[0;34m:\u001b[0m\u001b[0;34m\u001b[0m\u001b[0;34m\u001b[0m\u001b[0m\n\u001b[0;32m--> 503\u001b[0;31m                 \u001b[0mtop_module\u001b[0m\u001b[0;34m,\u001b[0m \u001b[0mtop_name\u001b[0m \u001b[0;34m=\u001b[0m \u001b[0mself\u001b[0m\u001b[0;34m.\u001b[0m\u001b[0m_reloader\u001b[0m\u001b[0;34m.\u001b[0m\u001b[0maimport_module\u001b[0m\u001b[0;34m(\u001b[0m\u001b[0m_module\u001b[0m\u001b[0;34m)\u001b[0m\u001b[0;34m\u001b[0m\u001b[0;34m\u001b[0m\u001b[0m\n\u001b[0m\u001b[1;32m    504\u001b[0m \u001b[0;34m\u001b[0m\u001b[0m\n\u001b[1;32m    505\u001b[0m                 \u001b[0;31m# Inject module to user namespace\u001b[0m\u001b[0;34m\u001b[0m\u001b[0;34m\u001b[0m\u001b[0;34m\u001b[0m\u001b[0m\n",
      "\u001b[0;32m~/anaconda3/lib/python3.6/site-packages/IPython/extensions/autoreload.py\u001b[0m in \u001b[0;36maimport_module\u001b[0;34m(self, module_name)\u001b[0m\n\u001b[1;32m    175\u001b[0m         \u001b[0mself\u001b[0m\u001b[0;34m.\u001b[0m\u001b[0mmark_module_reloadable\u001b[0m\u001b[0;34m(\u001b[0m\u001b[0mmodule_name\u001b[0m\u001b[0;34m)\u001b[0m\u001b[0;34m\u001b[0m\u001b[0;34m\u001b[0m\u001b[0m\n\u001b[1;32m    176\u001b[0m \u001b[0;34m\u001b[0m\u001b[0m\n\u001b[0;32m--> 177\u001b[0;31m         \u001b[0mimport_module\u001b[0m\u001b[0;34m(\u001b[0m\u001b[0mmodule_name\u001b[0m\u001b[0;34m)\u001b[0m\u001b[0;34m\u001b[0m\u001b[0;34m\u001b[0m\u001b[0m\n\u001b[0m\u001b[1;32m    178\u001b[0m         \u001b[0mtop_name\u001b[0m \u001b[0;34m=\u001b[0m \u001b[0mmodule_name\u001b[0m\u001b[0;34m.\u001b[0m\u001b[0msplit\u001b[0m\u001b[0;34m(\u001b[0m\u001b[0;34m'.'\u001b[0m\u001b[0;34m)\u001b[0m\u001b[0;34m[\u001b[0m\u001b[0;36m0\u001b[0m\u001b[0;34m]\u001b[0m\u001b[0;34m\u001b[0m\u001b[0;34m\u001b[0m\u001b[0m\n\u001b[1;32m    179\u001b[0m         \u001b[0mtop_module\u001b[0m \u001b[0;34m=\u001b[0m \u001b[0msys\u001b[0m\u001b[0;34m.\u001b[0m\u001b[0mmodules\u001b[0m\u001b[0;34m[\u001b[0m\u001b[0mtop_name\u001b[0m\u001b[0;34m]\u001b[0m\u001b[0;34m\u001b[0m\u001b[0;34m\u001b[0m\u001b[0m\n",
      "\u001b[0;32m~/anaconda3/lib/python3.6/importlib/__init__.py\u001b[0m in \u001b[0;36mimport_module\u001b[0;34m(name, package)\u001b[0m\n\u001b[1;32m    124\u001b[0m                 \u001b[0;32mbreak\u001b[0m\u001b[0;34m\u001b[0m\u001b[0;34m\u001b[0m\u001b[0m\n\u001b[1;32m    125\u001b[0m             \u001b[0mlevel\u001b[0m \u001b[0;34m+=\u001b[0m \u001b[0;36m1\u001b[0m\u001b[0;34m\u001b[0m\u001b[0;34m\u001b[0m\u001b[0m\n\u001b[0;32m--> 126\u001b[0;31m     \u001b[0;32mreturn\u001b[0m \u001b[0m_bootstrap\u001b[0m\u001b[0;34m.\u001b[0m\u001b[0m_gcd_import\u001b[0m\u001b[0;34m(\u001b[0m\u001b[0mname\u001b[0m\u001b[0;34m[\u001b[0m\u001b[0mlevel\u001b[0m\u001b[0;34m:\u001b[0m\u001b[0;34m]\u001b[0m\u001b[0;34m,\u001b[0m \u001b[0mpackage\u001b[0m\u001b[0;34m,\u001b[0m \u001b[0mlevel\u001b[0m\u001b[0;34m)\u001b[0m\u001b[0;34m\u001b[0m\u001b[0;34m\u001b[0m\u001b[0m\n\u001b[0m\u001b[1;32m    127\u001b[0m \u001b[0;34m\u001b[0m\u001b[0m\n\u001b[1;32m    128\u001b[0m \u001b[0;34m\u001b[0m\u001b[0m\n",
      "\u001b[0;32m~/anaconda3/lib/python3.6/importlib/_bootstrap.py\u001b[0m in \u001b[0;36m_gcd_import\u001b[0;34m(name, package, level)\u001b[0m\n",
      "\u001b[0;32m~/anaconda3/lib/python3.6/importlib/_bootstrap.py\u001b[0m in \u001b[0;36m_find_and_load\u001b[0;34m(name, import_)\u001b[0m\n",
      "\u001b[0;32m~/anaconda3/lib/python3.6/importlib/_bootstrap.py\u001b[0m in \u001b[0;36m_find_and_load_unlocked\u001b[0;34m(name, import_)\u001b[0m\n",
      "\u001b[0;31mModuleNotFoundError\u001b[0m: No module named 'encoding'"
     ]
    }
   ],
   "source": [
    "%load_ext autoreload\n",
    "%autoreload 1\n",
    "%aimport encoding"
   ]
  },
  {
   "cell_type": "code",
   "execution_count": 4,
   "metadata": {},
   "outputs": [
    {
     "ename": "ModuleNotFoundError",
     "evalue": "No module named 'encoding'",
     "output_type": "error",
     "traceback": [
      "\u001b[0;31m---------------------------------------------------------------------------\u001b[0m",
      "\u001b[0;31mModuleNotFoundError\u001b[0m                       Traceback (most recent call last)",
      "\u001b[0;32m<ipython-input-4-f7151b4f3a23>\u001b[0m in \u001b[0;36m<module>\u001b[0;34m\u001b[0m\n\u001b[0;32m----> 1\u001b[0;31m \u001b[0;32mfrom\u001b[0m \u001b[0mencoding\u001b[0m \u001b[0;32mimport\u001b[0m \u001b[0mRLEncoding\u001b[0m\u001b[0;34m,\u001b[0m \u001b[0mtest_encoding\u001b[0m\u001b[0;34m\u001b[0m\u001b[0;34m\u001b[0m\u001b[0m\n\u001b[0m",
      "\u001b[0;31mModuleNotFoundError\u001b[0m: No module named 'encoding'"
     ]
    }
   ],
   "source": [
    "from encoding import RLEncoding, test_encoding"
   ]
  },
  {
   "cell_type": "code",
   "execution_count": 10,
   "metadata": {},
   "outputs": [],
   "source": [
    "ISSUE_URL = 'https://github.com/olin/collascii/issues/21'\n",
    "CACHE_FILE = \"cache.html\"\n",
    "if os.path.exists(CACHE_FILE):\n",
    "    with open(CACHE_FILE, 'r') as f:\n",
    "        html = f.read()\n",
    "else:\n",
    "    response = requests.get(ISSUE_URL)\n",
    "    if response.status_code is not 200:\n",
    "        raise Exception(\"Response was not OK\")\n",
    "    html = response.text\n",
    "    with open(CACHE_FILE, 'w') as f:\n",
    "        f.write(html)\n",
    "soup = bs4.BeautifulSoup(html)"
   ]
  },
  {
   "cell_type": "code",
   "execution_count": 11,
   "metadata": {},
   "outputs": [],
   "source": [
    "blocks = soup.select(\".comment-body pre > code\")  # select all pre-formatted code blocks in comment bodies\n",
    "works = list(map(lambda b: b.text.encode('ASCII'), blocks))"
   ]
  },
  {
   "cell_type": "code",
   "execution_count": 30,
   "metadata": {},
   "outputs": [
    {
     "name": "stdout",
     "output_type": "stream",
     "text": [
      "caught 22 works\n",
      "         |  ###############  |\\                         \n",
      "         | #               # ||                         \n",
      "         | #  HELLO WORLD  # ||                         \n",
      "         | #               # |\\                         \n",
      "         |  ###############  | |                        \n",
      "         *-------------------* |                        \n",
      "          \\                    \\                        \n",
      "           --                   |  \"LONG-LEGGED LOOSEY\" \n",
      "             \\                  |                       \n",
      "              --                \\                       \n",
      "                \\                |                      \n",
      "                 --              |                      \n",
      "                   \\             \\                      \n",
      "                    --            |                     \n",
      "                      \\           |                     \n",
      "                       --         \\ _____________       \n",
      "                         \\         |             \\      \n",
      "                          --       |              |     \n",
      "                            \\      \\  /-\\    /-\\  |     \n",
      "                             --     | \\-/    \\-/  |     \n",
      "                               \\    |             |     \n",
      "                                --  \\    <__>     |     \n",
      "                                  \\  |*--------*  |     \n",
      "                                   --*|xxxxxxxx|  |     \n",
      "                                   |  *--------*  |     \n",
      "                                    \\____________/      \n",
      "                                    _____|  |_____      \n",
      "                                   /              \\     \n",
      "                                  /_/|          |\\_\\    \n",
      "                                  /  |          |  \\    \n",
      "                                 /   |          |   \\   \n",
      "                               >*-   |          |   -*< \n",
      "                                ^    |__________|    ^  \n",
      "                                      |________|        \n",
      "                                      |        |        \n",
      "                                      |   __   |        \n",
      "                                      |   ||   |        \n",
      "                                      |   ||   |        \n",
      "                                      |___||___|        \n",
      "                                       | |  | |         \n",
      "                                       | |  | |         \n",
      "                                       | |  | |         \n",
      "                                       | |  | |         \n",
      "                                       | |  | |         \n",
      "                                       | |  | |         \n",
      "                                       | |  | |         \n",
      "                                       | |  | |         \n",
      "                                       | |  | |         \n",
      "                                       | |  | |         \n",
      "                                       | |  | |         \n",
      "                                       | |  | |         \n",
      "                                       | |  | |         \n",
      "                                       | |  | |         \n",
      "                                       | |  | |         \n",
      "                                       | |  | |\n",
      "\n",
      "********************************************************************************\n",
      "\n",
      "                         9</!\"//irooo\n",
      "                      /_;|_<\\iii}}I1rV0Q@@\n",
      "                    |;_,_,|||\"oor}r2ozURM@@@\n",
      "                 .\\_---___<\\</+vII}souGNNR@@N\n",
      "                @R|_-^-___|/\\//i}}I*V*V%@MMMM8\n",
      "               N@=--^.``._|=\\===}rIzUz*4FR@NMNN\n",
      "               0/;-^    .-||/\\==/_/r*ozV0Q@@NA@\n",
      "              zR_^^`   ..,,_|\\=/!<<\\}**o4FN@R@AQ\n",
      "              8o_^..   _ `_=!!!!///r}ozrVFFN8QG/--\n",
      "               =_,.^ _;I|vi\\=\"//=/rooooz}V%F/----/\n",
      "               Q|-,||\"Ii/zVR8oRVo*o4%VooIz/----/VN\n",
      "              /-----------\\#/-----------\\----/MF}b\n",
      "              |/---------\\|-|/---------\\|---/IUAoU\n",
      "              || ------- ||-|| ------- ||5U*t2R*b\n",
      "              |\\---------/|z|\\---------/|zz*Isos*\n",
      "              \\-----------/z\\-----------/z*o*zoI\n",
      "                 \\_|\"Uq}VRRR4am@+rIzZZ2zzz**ING\n",
      "                  =\"I8 .,<(o..99NRIzZaU2*ouzu\n",
      "                  =/I\\'<(98%#BN@NMN|oGZUUUUUG\n",
      "                  !!r8R;-:-`-+I1Ir|i2FGGaG0GU\n",
      "                   +/\"1_|<\"i+\"+iirIoF%F000m4&MMH\n",
      "                    P/|-^.,`;\\//i2U4%m000GGsozMZ\n",
      "                      /<|,-=<rr}GG4AAdd00GGy&ZM/b\n",
      "                      R\"9if008NNAAA8A800UGGUGR*</\n",
      "                   ^bdR  \"\\v0N@NAAAPFm04Zmmm%}<__<*\n",
      "                ,,'}6do  Z\\ro4P8WAW%04GGGGmM};<<;_u*}u/+\n",
      "          _.~<+``^^,jR   ^MiVW%00%RRF44088N+<<+/<<*i}/+}*u}\n",
      "     +  `o<<}/_``2` jRR   zMiNBofGR4GF0V# ;<;}+i<}5*io*i*u}+i/+\n",
      "  b      <}/2',`/6  jdH    zMR877R0bi2F;`;<~<++i}5i**<i*Qi;<<++*+/\n",
      "\n"
     ]
    }
   ],
   "source": [
    "# let's make sure we got some\n",
    "print(f\"caught {len(works)} works\")\n",
    "print(works[0].decode('ascii'),works[-1].decode('ascii'), sep='\\n'+'*'*80+'\\n')"
   ]
  },
  {
   "cell_type": "code",
   "execution_count": 13,
   "metadata": {},
   "outputs": [
    {
     "name": "stdout",
     "output_type": "stream",
     "text": [
      "Help on class RLEncoding in module encoding:\n",
      "\n",
      "class RLEncoding(Encoding)\n",
      " |  RLEncoding(escape: bytes = b'\\\\')\n",
      " |  \n",
      " |  Run-Length Encoding\n",
      " |  \n",
      " |  >>> RLEncoding().encode(b'bbbbbb')\n",
      " |  b'6b'\n",
      " |  \n",
      " |  >>> RLEncoding().encode(b'a')\n",
      " |  b'a'\n",
      " |  \n",
      " |  >>> RLEncoding().encode(b'1')\n",
      " |  b'\\\\1'\n",
      " |  \n",
      " |  >>> RLEncoding().encode(b'\\\\')\n",
      " |  b'\\\\\\\\'\n",
      " |  \n",
      " |  >>> b'\\\\\\\\' == br'\\\\'\n",
      " |  True\n",
      " |  \n",
      " |  >>> rle = RLEncoding(b'a')\n",
      " |  >>> rle.encode(b'1')\n",
      " |  b'a1'\n",
      " |  >>> rle.encode(b'122333')\n",
      " |  b'a12a23a3'\n",
      " |  >>> rle.decode(b'a12a23a3')\n",
      " |  b'122333'\n",
      " |  \n",
      " |  Method resolution order:\n",
      " |      RLEncoding\n",
      " |      Encoding\n",
      " |      abc.ABC\n",
      " |      builtins.object\n",
      " |  \n",
      " |  Methods defined here:\n",
      " |  \n",
      " |  __init__(self, escape: bytes = b'\\\\')\n",
      " |      Initialize self.  See help(type(self)) for accurate signature.\n",
      " |  \n",
      " |  decode(self, content: bytes)\n",
      " |  \n",
      " |  encode(self, content: bytes)\n",
      " |  \n",
      " |  ----------------------------------------------------------------------\n",
      " |  Data and other attributes defined here:\n",
      " |  \n",
      " |  __abstractmethods__ = frozenset()\n",
      " |  \n",
      " |  ----------------------------------------------------------------------\n",
      " |  Data descriptors inherited from Encoding:\n",
      " |  \n",
      " |  __dict__\n",
      " |      dictionary for instance variables (if defined)\n",
      " |  \n",
      " |  __weakref__\n",
      " |      list of weak references to the object (if defined)\n",
      "\n"
     ]
    }
   ],
   "source": [
    "help(RLEncoding)"
   ]
  },
  {
   "cell_type": "code",
   "execution_count": 14,
   "metadata": {},
   "outputs": [
    {
     "data": {
      "text/plain": [
       "(b'/12/23/3', b'122333')"
      ]
     },
     "execution_count": 14,
     "metadata": {},
     "output_type": "execute_result"
    }
   ],
   "source": [
    "rle = RLEncoding(escape=b\"/\")\n",
    "orig = br\"123abc\"\n",
    "test_encoding(rle, orig)\n",
    "\n",
    "test_encoding(rle, b\"122333\")"
   ]
  },
  {
   "cell_type": "code",
   "execution_count": 15,
   "metadata": {},
   "outputs": [
    {
     "name": "stdout",
     "output_type": "stream",
     "text": [
      "b'bbbbbbbbbb'\n"
     ]
    },
    {
     "data": {
      "text/plain": [
       "b'bbbbbbbbbb'"
      ]
     },
     "execution_count": 15,
     "metadata": {},
     "output_type": "execute_result"
    }
   ],
   "source": [
    "print(b\"b\"*10)\n",
    "rle.decode(b\"10b\")"
   ]
  },
  {
   "cell_type": "code",
   "execution_count": 16,
   "metadata": {},
   "outputs": [],
   "source": [
    "results = [test_encoding(rle, w) for w in works]"
   ]
  },
  {
   "cell_type": "code",
   "execution_count": 24,
   "metadata": {},
   "outputs": [],
   "source": [
    "reductions = [len(e) / len(d) for e, d in results]"
   ]
  },
  {
   "cell_type": "code",
   "execution_count": 28,
   "metadata": {},
   "outputs": [
    {
     "name": "stdout",
     "output_type": "stream",
     "text": [
      "Size reductions:\n",
      "\tAverage: 0.3865806757853603\n",
      "\tMin: 0.13590939373750832\n",
      "\tMax: 0.7749523204068659\n"
     ]
    }
   ],
   "source": [
    "print(f\"Size reductions:\")\n",
    "for name, func in {\"Average\": lambda a: sum(a) / len(a), \"Min\": min, \"Max\": max}.items():\n",
    "    print(f\"\\t{name}: {func(reductions)}\")"
   ]
  },
  {
   "cell_type": "code",
   "execution_count": null,
   "metadata": {},
   "outputs": [],
   "source": []
  }
 ],
 "metadata": {
  "kernelspec": {
   "display_name": "Python 3",
   "language": "python",
   "name": "python3"
  },
  "language_info": {
   "codemirror_mode": {
    "name": "ipython",
    "version": 3
   },
   "file_extension": ".py",
   "mimetype": "text/x-python",
   "name": "python",
   "nbconvert_exporter": "python",
   "pygments_lexer": "ipython3",
   "version": "3.6.7"
  }
 },
 "nbformat": 4,
 "nbformat_minor": 2
}
