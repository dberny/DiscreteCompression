{
 "cells": [
  {
   "cell_type": "code",
   "execution_count": 1,
   "metadata": {},
   "outputs": [],
   "source": [
    "import abc\n",
    "import math\n",
    "import os\n",
    "\n",
    "import bs4\n",
    "import requests"
   ]
  },
  {
   "cell_type": "code",
   "execution_count": 2,
   "metadata": {},
   "outputs": [],
   "source": [
    "%load_ext autoreload\n",
    "%autoreload 1\n",
    "%aimport encoding"
   ]
  },
  {
   "cell_type": "code",
   "execution_count": 3,
   "metadata": {},
   "outputs": [],
   "source": [
    "from encoding import RLEncoding, test_encoding"
   ]
  },
  {
   "cell_type": "code",
   "execution_count": 5,
   "metadata": {},
   "outputs": [],
   "source": [
    "ISSUE_URL = 'https://github.com/olin/collascii/issues/21'\n",
    "CACHE_FILE = \"cache.html\"\n",
    "if os.path.exists(CACHE_FILE):\n",
    "    with open(CACHE_FILE, 'r') as f:\n",
    "        html = f.read()\n",
    "else:\n",
    "    response = requests.get(ISSUE_URL)\n",
    "    if response.status_code is not 200:\n",
    "        raise Exception(\"Response was not OK\")\n",
    "    html = response.text\n",
    "    with open(CACHE_FILE, 'w') as f:\n",
    "        f.write(html)\n",
    "soup = bs4.BeautifulSoup(html)"
   ]
  },
  {
   "cell_type": "code",
   "execution_count": 6,
   "metadata": {},
   "outputs": [],
   "source": [
    "blocks = soup.select(\".comment-body pre > code\")  # select all pre-formatted code blocks in comment bodies\n",
    "works = list(map(lambda b: b.text.encode('ASCII'), blocks))"
   ]
  },
  {
   "cell_type": "code",
   "execution_count": 7,
   "metadata": {},
   "outputs": [
    {
     "name": "stdout",
     "output_type": "stream",
     "text": [
      "caught 24 works\n",
      "         |  ###############  |\\                         \n",
      "         | #               # ||                         \n",
      "         | #  HELLO WORLD  # ||                         \n",
      "         | #               # |\\                         \n",
      "         |  ###############  | |                        \n",
      "         *-------------------* |                        \n",
      "          \\                    \\                        \n",
      "           --                   |  \"LONG-LEGGED LOOSEY\" \n",
      "             \\                  |                       \n",
      "              --                \\                       \n",
      "                \\                |                      \n",
      "                 --              |                      \n",
      "                   \\             \\                      \n",
      "                    --            |                     \n",
      "                      \\           |                     \n",
      "                       --         \\ _____________       \n",
      "                         \\         |             \\      \n",
      "                          --       |              |     \n",
      "                            \\      \\  /-\\    /-\\  |     \n",
      "                             --     | \\-/    \\-/  |     \n",
      "                               \\    |             |     \n",
      "                                --  \\    <__>     |     \n",
      "                                  \\  |*--------*  |     \n",
      "                                   --*|xxxxxxxx|  |     \n",
      "                                   |  *--------*  |     \n",
      "                                    \\____________/      \n",
      "                                    _____|  |_____      \n",
      "                                   /              \\     \n",
      "                                  /_/|          |\\_\\    \n",
      "                                  /  |          |  \\    \n",
      "                                 /   |          |   \\   \n",
      "                               >*-   |          |   -*< \n",
      "                                ^    |__________|    ^  \n",
      "                                      |________|        \n",
      "                                      |        |        \n",
      "                                      |   __   |        \n",
      "                                      |   ||   |        \n",
      "                                      |   ||   |        \n",
      "                                      |___||___|        \n",
      "                                       | |  | |         \n",
      "                                       | |  | |         \n",
      "                                       | |  | |         \n",
      "                                       | |  | |         \n",
      "                                       | |  | |         \n",
      "                                       | |  | |         \n",
      "                                       | |  | |         \n",
      "                                       | |  | |         \n",
      "                                       | |  | |         \n",
      "                                       | |  | |         \n",
      "                                       | |  | |         \n",
      "                                       | |  | |         \n",
      "                                       | |  | |         \n",
      "                                       | |  | |         \n",
      "                                       | |  | |         \n",
      "                                       | |  | |\n",
      "\n",
      "********************************************************************************\n",
      "woah\n",
      " hi!\n",
      "                                    s  s\n",
      "      isn't thiis cool/???        s      s\n",
      "                                s           s\n",
      "  siht  this                                                  s  s\n",
      "      u            hello there I am Andrew               s s       s\n",
      "      u                   /     s            s\n",
      "                   u      ||      s        sneiS iH      ss\n",
      "      u                 f ||//    s s  s sss             ss        s\n",
      "                   u  /-d-/||       s s                 ss\n",
      "      u               | s\\-\\/    f       u fuu          s s  s   s\n",
      "      u            u  | a      a        g             s        s\n",
      "                      |u|     uu                      s\n",
      "      u            u  | |u       u      g           ss\n",
      "       u uu u u u u   | |    u     u    g         ss\n",
      "                      | |u       u               ss\n",
      "                      |r|    u   u u    g      /\\s\n",
      "                      | |u   u    u           //|                      There are\n",
      "       /-----\\        | | s u           g s  s|x\\\\\n",
      "       | /-\\ | c      | |d                    |XX|\n",
      "       | | | | c      | |d              g  c  |XX|c     c  c    stsc\n",
      "       | | | | c      | | sssssss      c      |XX  c  c             s\n",
      "       \\-/ | | ccccccc\\-|        z   c  g  c c|XX|  c               t\n",
      "      /--\\ | |       c  \\  zz  z         c    |XX|       c          s\n",
      "      || \\-/ |       c   z z     z      g     |XX                   t\n",
      "      |\\-- --/       cs                 c     |XX|                 cs\n",
      "      |  f            sszs     z  /-----\\  c  |XX|              c   r\n",
      "      |                    z z   z|XXxXX|     |XX|c   c  cc  c      s\n",
      "   z f|       z           zz z    |XXXXX|     |XX|  c               t\n",
      "      |   f    f               z  |XXXXX|     |XX|                  r\n",
      "      |                           |XXXXX|     |XX|                  s\n",
      "      |              / -\\  /--\\   |XXXXX|     |XX|                  t\n",
      "      |               xx|  |xx|   |XXXXX|si/\\ |XX|  -----\\          s\n",
      "    /-\\              |xx|  |xx|   |XXXXX|  || |XX| |xxxxx\\--\\       t\n",
      "    \\--\\-- ---- -----/xx\\--/xx|   |XXXXX\\--/\\-/xx\\-/xxxxxxxx\\------\\r\n",
      "      |\\-\\                  xx\\---/xxxxxxxxxxxxxxxxxxxxxxxxxxxxxxxx|s\n",
      "      \\--\\------------ ---- ------------------------------------- -/t\n",
      "                            t                                       s\n",
      "                             stsnstststss                           r\n",
      "\n",
      "\n",
      "\n",
      "\n",
      "\n",
      "\n",
      "\n",
      "                    ?yad enif si t  o gniod uoy era woH aneiS yeH\n",
      "                   b\n",
      "                   o\n",
      "                   i\n",
      "                   i\n",
      "                   i\n",
      "                   i\n",
      "                   i\n",
      "                   i                                           f\n",
      "                   i                                           d\n",
      "                   i                                           s\n",
      "                   i                                           a\n",
      "                     goooo oooooooooo ooooooooooooooooogggglle f\n",
      "                                                              ad\n",
      "        b  b     b  b  b  b  b  b  b  b  b  b  b  b  b  b  b  ss\n",
      "                                                               a\n",
      "                                                            b ff\n",
      "                                                              ad\n",
      "                                                              ss\n",
      "                                                            b da\n",
      "                    xxxxxx                                    ff\n",
      "                  xx       xx                                 ad\n",
      "                 x X|O|X      x                             b  s\n",
      "                x  -----   b       setnrsetnisr               da\n",
      "                x  O|X|X       x   sternstrst                 ff\n",
      "               x   -----       x   rstrs                    b a\n",
      "               x   O|X|O     b     trstrs                     ss\n",
      "               x                b  tsrtrsntrstrs              fa\n",
      "               x                   trstrstrs                b af\n",
      "               x                   trst                       s\n",
      "               x   xxxxxxxxx       rstrstrs                   d\n",
      "                xx    x  x  xxx b                             fa\n",
      "                 x    x  x   x\n",
      "                 x           x                                b\n",
      "                 x           x   b                            v\n",
      "                  x         x     b                           v\n",
      "                   xxxxxxxx     b  b  b  b  b  b  b  b  b  b\n",
      "\n"
     ]
    }
   ],
   "source": [
    "# let's make sure we got some\n",
    "print(f\"caught {len(works)} works\")\n",
    "print(works[0].decode('ascii'),works[-1].decode('ascii'), sep='\\n'+'*'*80+'\\n')"
   ]
  },
  {
   "cell_type": "code",
   "execution_count": 9,
   "metadata": {},
   "outputs": [
    {
     "name": "stdout",
     "output_type": "stream",
     "text": [
      "Help on class RLEncoding in module encoding:\n",
      "\n",
      "class RLEncoding(Encoding)\n",
      " |  RLEncoding(escape: bytes = b'\\\\')\n",
      " |  \n",
      " |  Run-Length Encoding\n",
      " |  >>> RLEncoding().encode(b'bbbbbb')\n",
      " |  b'6b'\n",
      " |  >>> RLEncoding().encode(b'a')\n",
      " |  b'a'\n",
      " |  >>> RLEncoding().encode(b'1')\n",
      " |  b'\\\\1'\n",
      " |  >>> RLEncoding().encode(b'\\\\')\n",
      " |  b'\\\\\\\\'\n",
      " |  >>> b'\\\\\\\\' == br'\\\\'\n",
      " |  True\n",
      " |  >>> rle = RLEncoding(b'a')\n",
      " |  >>> rle.encode(b'1')\n",
      " |  b'a1'\n",
      " |  >>> rle.encode(b'122333')\n",
      " |  b'a12a23a3'\n",
      " |  >>> rle.decode(b'a12a23a3')\n",
      " |  b'122333'\n",
      " |  \n",
      " |  Method resolution order:\n",
      " |      RLEncoding\n",
      " |      Encoding\n",
      " |      abc.ABC\n",
      " |      builtins.object\n",
      " |  \n",
      " |  Methods defined here:\n",
      " |  \n",
      " |  __init__(self, escape: bytes = b'\\\\')\n",
      " |      Initialize self.  See help(type(self)) for accurate signature.\n",
      " |  \n",
      " |  decode(self, content: bytes)\n",
      " |  \n",
      " |  encode(self, content: bytes)\n",
      " |  \n",
      " |  ----------------------------------------------------------------------\n",
      " |  Data and other attributes defined here:\n",
      " |  \n",
      " |  __abstractmethods__ = frozenset()\n",
      " |  \n",
      " |  ----------------------------------------------------------------------\n",
      " |  Data descriptors inherited from Encoding:\n",
      " |  \n",
      " |  __dict__\n",
      " |      dictionary for instance variables (if defined)\n",
      " |  \n",
      " |  __weakref__\n",
      " |      list of weak references to the object (if defined)\n",
      "\n"
     ]
    }
   ],
   "source": [
    "help(RLEncoding)"
   ]
  },
  {
   "cell_type": "code",
   "execution_count": 13,
   "metadata": {},
   "outputs": [
    {
     "data": {
      "text/plain": [
       "(b'/12/23/3', b'122333')"
      ]
     },
     "execution_count": 13,
     "metadata": {},
     "output_type": "execute_result"
    }
   ],
   "source": [
    "rle = RLEncoding(escape=b\"/\")\n",
    "orig = br\"123abc\"\n",
    "test_encoding(rle, orig)\n",
    "\n",
    "test_encoding(rle, b\"122333\")"
   ]
  },
  {
   "cell_type": "code",
   "execution_count": 14,
   "metadata": {},
   "outputs": [
    {
     "name": "stdout",
     "output_type": "stream",
     "text": [
      "b'bbbbbbbbbb'\n"
     ]
    },
    {
     "data": {
      "text/plain": [
       "b'bbbbbbbbbb'"
      ]
     },
     "execution_count": 14,
     "metadata": {},
     "output_type": "execute_result"
    }
   ],
   "source": [
    "print(b\"b\"*10)\n",
    "rle.decode(b\"10b\")"
   ]
  },
  {
   "cell_type": "code",
   "execution_count": 15,
   "metadata": {},
   "outputs": [],
   "source": [
    "results = [test_encoding(rle, w) for w in works]"
   ]
  },
  {
   "cell_type": "code",
   "execution_count": 16,
   "metadata": {},
   "outputs": [],
   "source": [
    "reductions = [len(e) / len(d) for e, d in results]"
   ]
  },
  {
   "cell_type": "code",
   "execution_count": 17,
   "metadata": {},
   "outputs": [
    {
     "name": "stdout",
     "output_type": "stream",
     "text": [
      "Size reductions:\n",
      "\tAverage: 0.38233358283079594\n",
      "\tMin: 0.13590939373750832\n",
      "\tMax: 0.7749523204068659\n"
     ]
    }
   ],
   "source": [
    "print(f\"Size reductions:\")\n",
    "for name, func in {\"Average\": lambda a: sum(a) / len(a), \"Min\": min, \"Max\": max}.items():\n",
    "    print(f\"\\t{name}: {func(reductions)}\")"
   ]
  },
  {
   "cell_type": "code",
   "execution_count": null,
   "metadata": {},
   "outputs": [],
   "source": []
  },
  {
   "cell_type": "code",
   "execution_count": null,
   "metadata": {},
   "outputs": [],
   "source": []
  },
  {
   "cell_type": "code",
   "execution_count": null,
   "metadata": {},
   "outputs": [],
   "source": []
  }
 ],
 "metadata": {
  "kernelspec": {
   "display_name": "Python 3",
   "language": "python",
   "name": "python3"
  },
  "language_info": {
   "codemirror_mode": {
    "name": "ipython",
    "version": 3
   },
   "file_extension": ".py",
   "mimetype": "text/x-python",
   "name": "python",
   "nbconvert_exporter": "python",
   "pygments_lexer": "ipython3",
   "version": "3.7.4"
  }
 },
 "nbformat": 4,
 "nbformat_minor": 2
}
